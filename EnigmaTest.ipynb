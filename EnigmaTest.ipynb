{
  "cells": [
    {
      "cell_type": "markdown",
      "metadata": {
        "id": "view-in-github",
        "colab_type": "text"
      },
      "source": [
        "<a href=\"https://colab.research.google.com/github/blasterdark300/Mesin-Enigma-Translate/blob/CollabPynb/EnigmaTest.ipynb\" target=\"_parent\"><img src=\"https://colab.research.google.com/assets/colab-badge.svg\" alt=\"Open In Colab\"/></a>"
      ]
    },
    {
      "cell_type": "code",
      "execution_count": 4,
      "metadata": {
        "colab": {
          "base_uri": "https://localhost:8080/"
        },
        "id": "pB0pcYicMs5l",
        "outputId": "8b14b259-2688-4503-b0fc-cf24c9fd5fdc"
      },
      "outputs": [
        {
          "output_type": "stream",
          "name": "stdout",
          "text": [
            "Collecting googletrans==4.0.0-rc1\n",
            "  Downloading googletrans-4.0.0rc1.tar.gz (20 kB)\n",
            "  Preparing metadata (setup.py) ... \u001b[?25l\u001b[?25hdone\n",
            "Collecting httpx==0.13.3 (from googletrans==4.0.0-rc1)\n",
            "  Downloading httpx-0.13.3-py3-none-any.whl.metadata (25 kB)\n",
            "Requirement already satisfied: certifi in /usr/local/lib/python3.10/dist-packages (from httpx==0.13.3->googletrans==4.0.0-rc1) (2024.12.14)\n",
            "Collecting hstspreload (from httpx==0.13.3->googletrans==4.0.0-rc1)\n",
            "  Downloading hstspreload-2024.12.1-py3-none-any.whl.metadata (2.1 kB)\n",
            "Requirement already satisfied: sniffio in /usr/local/lib/python3.10/dist-packages (from httpx==0.13.3->googletrans==4.0.0-rc1) (1.3.1)\n",
            "Collecting chardet==3.* (from httpx==0.13.3->googletrans==4.0.0-rc1)\n",
            "  Downloading chardet-3.0.4-py2.py3-none-any.whl.metadata (3.2 kB)\n",
            "Collecting idna==2.* (from httpx==0.13.3->googletrans==4.0.0-rc1)\n",
            "  Downloading idna-2.10-py2.py3-none-any.whl.metadata (9.1 kB)\n",
            "Collecting rfc3986<2,>=1.3 (from httpx==0.13.3->googletrans==4.0.0-rc1)\n",
            "  Downloading rfc3986-1.5.0-py2.py3-none-any.whl.metadata (6.5 kB)\n",
            "Collecting httpcore==0.9.* (from httpx==0.13.3->googletrans==4.0.0-rc1)\n",
            "  Downloading httpcore-0.9.1-py3-none-any.whl.metadata (4.6 kB)\n",
            "Collecting h11<0.10,>=0.8 (from httpcore==0.9.*->httpx==0.13.3->googletrans==4.0.0-rc1)\n",
            "  Downloading h11-0.9.0-py2.py3-none-any.whl.metadata (8.1 kB)\n",
            "Collecting h2==3.* (from httpcore==0.9.*->httpx==0.13.3->googletrans==4.0.0-rc1)\n",
            "  Downloading h2-3.2.0-py2.py3-none-any.whl.metadata (32 kB)\n",
            "Collecting hyperframe<6,>=5.2.0 (from h2==3.*->httpcore==0.9.*->httpx==0.13.3->googletrans==4.0.0-rc1)\n",
            "  Downloading hyperframe-5.2.0-py2.py3-none-any.whl.metadata (7.2 kB)\n",
            "Collecting hpack<4,>=3.0 (from h2==3.*->httpcore==0.9.*->httpx==0.13.3->googletrans==4.0.0-rc1)\n",
            "  Downloading hpack-3.0.0-py2.py3-none-any.whl.metadata (7.0 kB)\n",
            "Downloading httpx-0.13.3-py3-none-any.whl (55 kB)\n",
            "\u001b[2K   \u001b[90m━━━━━━━━━━━━━━━━━━━━━━━━━━━━━━━━━━━━━━━━\u001b[0m \u001b[32m55.1/55.1 kB\u001b[0m \u001b[31m6.1 MB/s\u001b[0m eta \u001b[36m0:00:00\u001b[0m\n",
            "\u001b[?25hDownloading chardet-3.0.4-py2.py3-none-any.whl (133 kB)\n",
            "\u001b[2K   \u001b[90m━━━━━━━━━━━━━━━━━━━━━━━━━━━━━━━━━━━━━━━━\u001b[0m \u001b[32m133.4/133.4 kB\u001b[0m \u001b[31m10.6 MB/s\u001b[0m eta \u001b[36m0:00:00\u001b[0m\n",
            "\u001b[?25hDownloading httpcore-0.9.1-py3-none-any.whl (42 kB)\n",
            "\u001b[2K   \u001b[90m━━━━━━━━━━━━━━━━━━━━━━━━━━━━━━━━━━━━━━━━\u001b[0m \u001b[32m42.6/42.6 kB\u001b[0m \u001b[31m4.5 MB/s\u001b[0m eta \u001b[36m0:00:00\u001b[0m\n",
            "\u001b[?25hDownloading idna-2.10-py2.py3-none-any.whl (58 kB)\n",
            "\u001b[2K   \u001b[90m━━━━━━━━━━━━━━━━━━━━━━━━━━━━━━━━━━━━━━━━\u001b[0m \u001b[32m58.8/58.8 kB\u001b[0m \u001b[31m5.5 MB/s\u001b[0m eta \u001b[36m0:00:00\u001b[0m\n",
            "\u001b[?25hDownloading h2-3.2.0-py2.py3-none-any.whl (65 kB)\n",
            "\u001b[2K   \u001b[90m━━━━━━━━━━━━━━━━━━━━━━━━━━━━━━━━━━━━━━━━\u001b[0m \u001b[32m65.0/65.0 kB\u001b[0m \u001b[31m5.8 MB/s\u001b[0m eta \u001b[36m0:00:00\u001b[0m\n",
            "\u001b[?25hDownloading rfc3986-1.5.0-py2.py3-none-any.whl (31 kB)\n",
            "Downloading hstspreload-2024.12.1-py3-none-any.whl (1.3 MB)\n",
            "\u001b[2K   \u001b[90m━━━━━━━━━━━━━━━━━━━━━━━━━━━━━━━━━━━━━━━━\u001b[0m \u001b[32m1.3/1.3 MB\u001b[0m \u001b[31m47.5 MB/s\u001b[0m eta \u001b[36m0:00:00\u001b[0m\n",
            "\u001b[?25hDownloading h11-0.9.0-py2.py3-none-any.whl (53 kB)\n",
            "\u001b[2K   \u001b[90m━━━━━━━━━━━━━━━━━━━━━━━━━━━━━━━━━━━━━━━━\u001b[0m \u001b[32m53.6/53.6 kB\u001b[0m \u001b[31m5.8 MB/s\u001b[0m eta \u001b[36m0:00:00\u001b[0m\n",
            "\u001b[?25hDownloading hpack-3.0.0-py2.py3-none-any.whl (38 kB)\n",
            "Downloading hyperframe-5.2.0-py2.py3-none-any.whl (12 kB)\n",
            "Building wheels for collected packages: googletrans\n",
            "  Building wheel for googletrans (setup.py) ... \u001b[?25l\u001b[?25hdone\n",
            "  Created wheel for googletrans: filename=googletrans-4.0.0rc1-py3-none-any.whl size=17397 sha256=31b0f311c22a926ac895bf356835964d688840be9add32f033f654b261880b05\n",
            "  Stored in directory: /root/.cache/pip/wheels/c0/59/9f/7372f0cf70160fe61b528532e1a7c8498c4becd6bcffb022de\n",
            "Successfully built googletrans\n",
            "Installing collected packages: rfc3986, hyperframe, hpack, h11, chardet, idna, hstspreload, h2, httpcore, httpx, googletrans\n",
            "  Attempting uninstall: h11\n",
            "    Found existing installation: h11 0.14.0\n",
            "    Uninstalling h11-0.14.0:\n",
            "      Successfully uninstalled h11-0.14.0\n",
            "  Attempting uninstall: chardet\n",
            "    Found existing installation: chardet 5.2.0\n",
            "    Uninstalling chardet-5.2.0:\n",
            "      Successfully uninstalled chardet-5.2.0\n",
            "  Attempting uninstall: idna\n",
            "    Found existing installation: idna 3.10\n",
            "    Uninstalling idna-3.10:\n",
            "      Successfully uninstalled idna-3.10\n",
            "  Attempting uninstall: httpcore\n",
            "    Found existing installation: httpcore 1.0.7\n",
            "    Uninstalling httpcore-1.0.7:\n",
            "      Successfully uninstalled httpcore-1.0.7\n",
            "  Attempting uninstall: httpx\n",
            "    Found existing installation: httpx 0.28.1\n",
            "    Uninstalling httpx-0.28.1:\n",
            "      Successfully uninstalled httpx-0.28.1\n",
            "\u001b[31mERROR: pip's dependency resolver does not currently take into account all the packages that are installed. This behaviour is the source of the following dependency conflicts.\n",
            "langsmith 0.2.3 requires httpx<1,>=0.23.0, but you have httpx 0.13.3 which is incompatible.\n",
            "openai 1.57.4 requires httpx<1,>=0.23.0, but you have httpx 0.13.3 which is incompatible.\u001b[0m\u001b[31m\n",
            "\u001b[0mSuccessfully installed chardet-3.0.4 googletrans-4.0.0rc1 h11-0.9.0 h2-3.2.0 hpack-3.0.0 hstspreload-2024.12.1 httpcore-0.9.1 httpx-0.13.3 hyperframe-5.2.0 idna-2.10 rfc3986-1.5.0\n"
          ]
        }
      ],
      "source": [
        "pip install googletrans==4.0.0-rc1"
      ]
    },
    {
      "cell_type": "code",
      "execution_count": null,
      "metadata": {
        "colab": {
          "base_uri": "https://localhost:8080/"
        },
        "id": "Oq5txa7-O90B",
        "outputId": "dd8c0751-9a8d-4097-8205-b3548d858f89"
      },
      "outputs": [
        {
          "output_type": "stream",
          "name": "stdout",
          "text": [
            "Masukkan teks yang ingin dienkripsi: liael=amorta ist eine schicksalhafte Karte \n",
            "\n",
            "Teks asli: LIAEL=AMORTA IST EINE SCHICKSALHAFTE KARTE \n",
            "Teks terenkripsi: OWOYB=MAAFEM MEF VWSO NNEFWPEMORONYD POFES \n",
            "Teks didekripsi: NIABX=JYOIHE ACI EDEA FSDYMTTANVAMMC TAIHT \n",
            "Teks arti bahasa Indonesia: Lieile = Amorta adalah kartu yang menentukan\n",
            "Teks arti bahasa Inggris: LIEILE = Amorta is a fateful card\n"
          ]
        }
      ],
      "source": [
        "from googletrans import Translator\n",
        "\n",
        "class MesinEnigma:\n",
        "    def __init__(self, rotor, reflektor):\n",
        "        self.rotor = rotor  # Rotor substitusi\n",
        "        self.reflektor = reflektor  # Reflektor substitusi\n",
        "        self.posisi_rotor = 0  # Posisi awal rotor\n",
        "\n",
        "    def putar_rotor(self):\n",
        "        \"\"\"Memutar rotor satu langkah.\"\"\"\n",
        "        self.posisi_rotor = (self.posisi_rotor + 1) % len(self.rotor)\n",
        "\n",
        "    def proses_karakter(self, karakter):\n",
        "        \"\"\"Proses enkripsi atau dekripsi satu karakter.\"\"\"\n",
        "        if karakter not in self.rotor:\n",
        "            return karakter  # Karakter non-abjad tetap sama\n",
        "\n",
        "        # Jalur maju melalui rotor\n",
        "        indeks = (self.rotor.index(karakter) + self.posisi_rotor) % len(self.rotor)\n",
        "        karakter_terenkripsi = self.rotor[indeks]\n",
        "\n",
        "        # Melewati reflektor\n",
        "        karakter_terpantul = self.reflektor[karakter_terenkripsi]\n",
        "\n",
        "        # Jalur balik melalui rotor\n",
        "        indeks = (self.rotor.index(karakter_terpantul) - self.posisi_rotor) % len(self.rotor)\n",
        "        karakter_terenkripsi = self.rotor[indeks]\n",
        "\n",
        "        # Memutar rotor\n",
        "        self.putar_rotor()\n",
        "\n",
        "        return karakter_terenkripsi\n",
        "\n",
        "    def enkripsi_pesan(self, pesan):\n",
        "        \"\"\"Enkripsi seluruh pesan.\"\"\"\n",
        "        return ''.join(self.proses_karakter(k) for k in pesan)\n",
        "\n",
        "    def dekripsi_pesan(self, pesan):\n",
        "        \"\"\"Dekripsi pesan (metode yang sama dengan enkripsi).\"\"\"\n",
        "        return self.enkripsi_pesan(pesan)\n",
        "\n",
        "\n",
        "# Definisi rotor dan reflektor\n",
        "rotor = \"ABCDEFGHIJKLMNOPQRSTUVWXYZ\"\n",
        "rotor_substitusi = \"EKMFLGDQVZNTOWYHXUSPAIBRCJ\"  # Substitusi rotor\n",
        "reflektor = {a: b for a, b in zip(rotor, rotor[::-1])}  # Reflektor sederhana\n",
        "\n",
        "# Fungsi utama\n",
        "def jalankan_mesin_enigma():\n",
        "    translator = Translator()\n",
        "    enigma = MesinEnigma(rotor_substitusi, reflektor)\n",
        "\n",
        "    while True:\n",
        "        # Masukkan teks dari pengguna\n",
        "        teks_asli = input(\"Masukkan teks yang ingin dienkripsi: \").upper()\n",
        "        print(\"\\nTeks asli:\", teks_asli)\n",
        "\n",
        "        # Enkripsi teks\n",
        "        teks_terenkripsi = enigma.enkripsi_pesan(teks_asli)\n",
        "        print(\"Teks terenkripsi:\", teks_terenkripsi)\n",
        "\n",
        "        # Dekripsi teks\n",
        "        teks_didekripsi = enigma.dekripsi_pesan(teks_terenkripsi)\n",
        "        print(\"Teks didekripsi:\", teks_didekripsi)\n",
        "\n",
        "        # Terjemahan\n",
        "        terjemahan_id = translator.translate(teks_asli, src='de', dest='id').text\n",
        "        terjemahan_en = translator.translate(teks_asli, src='de', dest='en').text\n",
        "\n",
        "        print(\"Teks arti bahasa Indonesia:\", terjemahan_id)\n",
        "        print(\"Teks arti bahasa Inggris:\", terjemahan_en)\n",
        "\n",
        "        # Tanya apakah pengguna ingin mencoba lagi\n",
        "        coba_lagi = input(\"\\nIngin mencoba lagi? (ya/tidak): \").lower()\n",
        "        if coba_lagi != \"ya\":\n",
        "            print(\"Terima kasih telah menggunakan Mesin Enigma!\")\n",
        "            break\n",
        "\n",
        "\n",
        "# Jalankan program\n",
        "jalankan_mesin_enigma()"
      ]
    }
  ],
  "metadata": {
    "colab": {
      "provenance": [],
      "authorship_tag": "ABX9TyPx0yqY7ZwmLy2QGImkIT30",
      "include_colab_link": true
    },
    "kernelspec": {
      "display_name": "Python 3",
      "name": "python3"
    },
    "language_info": {
      "name": "python"
    }
  },
  "nbformat": 4,
  "nbformat_minor": 0
}